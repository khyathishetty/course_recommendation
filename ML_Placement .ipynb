{
 "cells": [
  {
   "cell_type": "markdown",
   "metadata": {},
   "source": [
    "Importing Libraries"
   ]
  },
  {
   "cell_type": "code",
   "execution_count": 2,
   "metadata": {},
   "outputs": [],
   "source": [
    "\n",
    "import pandas as pd\n",
    "import numpy as np\n",
    "from sklearn.cluster import KMeans\n",
    "import matplotlib.pyplot as plt\n",
    "from sklearn.mixture import GaussianMixture\n",
    "from sklearn.preprocessing import StandardScaler"
   ]
  },
  {
   "cell_type": "code",
   "execution_count": 3,
   "metadata": {},
   "outputs": [],
   "source": [
    "# Creating DataFrame\n",
    "df = pd.read_csv(\"ML_Dataset - Sheet1.csv\")\n",
    "\n",
    "# Addition of skills to each row randomly\n",
    "skill = ['Python', 'Java', 'Web Dev', 'Cybersecurity', 'SQL', 'Power BI', 'Excel']\n",
    "df['Skills']= np.random.choice(skill, len(df))\n",
    "\n",
    "df.to_csv(\"ML_Dataset_with_Skills.csv\", index=False)\n"
   ]
  },
  {
   "cell_type": "code",
   "execution_count": 5,
   "metadata": {},
   "outputs": [],
   "source": [
    "# Creating DataFrame\n",
    "df = pd.read_csv(\"ML_Dataset - Sheet1.csv\")\n",
    "\n",
    "Softskill = ['Communication','Teamwork','Problem-solving','Time management','Interpersonal skills','Creativity']\n",
    "df['SoftSkills']= np.random.choice(Softskill, len(df))\n",
    "\n",
    "df.to_csv(\"ML_Dataset_with_Skills.csv\", index=False)"
   ]
  },
  {
   "cell_type": "markdown",
   "metadata": {},
   "source": [
    "Clustering the data"
   ]
  },
  {
   "cell_type": "code",
   "execution_count": 3,
   "metadata": {},
   "outputs": [
    {
     "name": "stdout",
     "output_type": "stream",
     "text": [
      "    Unnamed: 0.3  Unnamed: 0.2  Unnamed: 0.1  Unnamed: 0                 Name  \\\n",
      "0              0             0             0           0        Aastha Londhe   \n",
      "1              1             1             1           1            Abhijna N   \n",
      "2              2             2             2           2  Adithya Maradithaya   \n",
      "3              3             3             3           3       Aditya Patil T   \n",
      "4              4             4             4           4   Ambika Jayashanthi   \n",
      "..           ...           ...           ...         ...                  ...   \n",
      "67            67            67            67          67   Vishanth S Chandan   \n",
      "68            68            68            68          68      Y. Nidhi Shenoy   \n",
      "69            69            69            69          69    Jyothii R. Moolya   \n",
      "70            70            70            70          70     Prakash L Waddar   \n",
      "71            71            71            71          71          Prajwal G S   \n",
      "\n",
      "           USN                 Email   Branch  CGPA  Backlog(Active)  \\\n",
      "0   NNM22AD001  nnm22ad001@nmamit.in  AI & DS  9.75              NaN   \n",
      "1   NNM22AD002  nnm22ad002@nmamit.in  AI & DS  9.35              NaN   \n",
      "2   NNM22AD003  nnm22ad003@nmamit.in  AI & DS  6.90              NaN   \n",
      "3   NNM22AD004  nnm22ad004@nmamit.in  AI & DS  7.33              NaN   \n",
      "4   NNM22AD005  nnm22ad005@nmamit.in  AI & DS  8.60              NaN   \n",
      "..         ...                   ...      ...   ...              ...   \n",
      "67  NNM22AD068  nnm22ad068@nmamit.in  AI & DS  7.85              NaN   \n",
      "68  NNM22AD069  nnm22ad069@nmamit.in  AI & DS  9.98              NaN   \n",
      "69  NNM22AD070  nnm22ad070@nmamit.in  AI & DS  6.35              NaN   \n",
      "70  NNM22AD071  nnm22ad071@nmamit.in  AI & DS  4.99              NaN   \n",
      "71  NNM22AD072  nnm22ad072@nmamit.in  AI & DS  1.00              NaN   \n",
      "\n",
      "   Backlog(History)         Skills  Certifications  Cluster  \\\n",
      "0              none        Web Dev             NaN        2   \n",
      "1              none         Python             NaN        2   \n",
      "2              none          Excel             NaN        1   \n",
      "3              none           Java             NaN        1   \n",
      "4              none       Power BI             NaN        2   \n",
      "..              ...            ...             ...      ...   \n",
      "67              NaN       Power BI             NaN        1   \n",
      "68              NaN         Python             NaN        2   \n",
      "69              NaN            SQL             NaN        1   \n",
      "70              NaN  Cybersecurity             NaN        0   \n",
      "71              NaN       Power BI             NaN        0   \n",
      "\n",
      "               Skills_new      new_skill  \n",
      "0   Cybersecurity, Python  Cybersecurity  \n",
      "1                       4  Cybersecurity  \n",
      "2   Cybersecurity, Python  Cybersecurity  \n",
      "3           Java, ReactJS  Cybersecurity  \n",
      "4           Java, ReactJS  Cybersecurity  \n",
      "..                    ...            ...  \n",
      "67          SQL, Power BI  Cybersecurity  \n",
      "68          Java, ReactJS  Cybersecurity  \n",
      "69  Cybersecurity, Python  Cybersecurity  \n",
      "70                      4  Cybersecurity  \n",
      "71  Cybersecurity, Python  Cybersecurity  \n",
      "\n",
      "[72 rows x 16 columns]\n"
     ]
    },
    {
     "data": {
      "image/png": "[encoded data removed]",
      "text/plain": [
       "<Figure size 640x480 with 1 Axes>"
      ]
     },
     "metadata": {},
     "output_type": "display_data"
    }
   ],
   "source": [
    "# Extract the data from the selected column\n",
    "data_to_cluster = df['CGPA'].values.reshape(-1, 1)  # Reshape to 2D array\n",
    "\n",
    "# Define the number of clusters (k)\n",
    "k = 3\n",
    "\n",
    "# Create a KMeans instance\n",
    "kmeans = KMeans(n_clusters=k, random_state=0)\n",
    "\n",
    "# Fit the model to the data\n",
    "kmeans.fit(data_to_cluster)\n",
    "\n",
    "# Get the cluster labels assigned to each data point\n",
    "cluster_labels = kmeans.labels_\n",
    "\n",
    "# Add a new column 'Cluster' to the DataFrame containing the cluster labels\n",
    "df['Cluster'] = cluster_labels\n",
    "\n",
    "# Print the DataFrame with cluster labels (optional)\n",
    "print(df)\n",
    "\n",
    "# Visualization (scatter plot)\n",
    "plt.scatter(df['CGPA'], cluster_labels)  # Data on x-axis, labels on y-axis\n",
    "\n",
    "# Add labels and title\n",
    "plt.xlabel('CGPA')\n",
    "plt.ylabel(\"Cluster Label\")\n",
    "plt.title(\"K-Means Clustering\")\n",
    "\n",
    "plt.show()"
   ]
  },
  {
   "cell_type": "code",
   "execution_count": 4,
   "metadata": {},
   "outputs": [],
   "source": [
    "df.drop('new_skill', axis=1, inplace=True)\n",
    "df.drop('Skills_new', axis=1, inplace=True)\n",
    "df.to_csv('ML_Dataset.csv')"
   ]
  },
  {
   "cell_type": "code",
   "execution_count": 5,
   "metadata": {},
   "outputs": [
    {
     "name": "stderr",
     "output_type": "stream",
     "text": [
      "C:\\Users\\ADMIN\\AppData\\Local\\Temp\\ipykernel_22516\\326921788.py:2: FutureWarning: Downcasting behavior in `replace` is deprecated and will be removed in a future version. To retain the old behavior, explicitly call `result.infer_objects(copy=False)`. To opt-in to the future behavior, set `pd.set_option('future.no_silent_downcasting', True)`\n",
      "  df['Skill_label'] = df['Skills'].replace(replacing_value)\n"
     ]
    }
   ],
   "source": [
    "replacing_value = {'Python': 0, 'SQL': 1, 'Java': 2, 'ReactJS': 3, 'Web Dev': 4, 'Cybersecurity': 5, 'Power BI': 6, 'Excel': 7}\n",
    "df['Skill_label'] = df['Skills'].replace(replacing_value)\n"
   ]
  },
  {
   "cell_type": "markdown",
   "metadata": {},
   "source": [
    "Scatter Plot\n"
   ]
  },
  {
   "cell_type": "code",
   "execution_count": 6,
   "metadata": {},
   "outputs": [
    {
     "data": {
      "image/png": "[encoded data removed]",
      "text/plain": [
       "<Figure size 800x600 with 1 Axes>"
      ]
     },
     "metadata": {},
     "output_type": "display_data"
    }
   ],
   "source": [
    "# Create the scatter plot\n",
    "plt.figure(figsize=(8, 6))  # Adjust figure size as needed\n",
    "plt.scatter(df['Cluster'], df['Skill_label'])\n",
    "\n",
    "# Add labels and title\n",
    "plt.xlabel('Cluster Label')\n",
    "plt.ylabel('Skill Label')\n",
    "plt.title('Scatter Plot')\n",
    "\n",
    "\n",
    "plt.show()\n"
   ]
  },
  {
   "cell_type": "code",
   "execution_count": 12,
   "metadata": {},
   "outputs": [
    {
     "name": "stderr",
     "output_type": "stream",
     "text": [
      "C:\\Users\\Khyathi Shetty\\AppData\\Roaming\\Python\\Python312\\site-packages\\sklearn\\utils\\_array_api.py:472: RuntimeWarning: All-NaN slice encountered\n",
      "  return xp.asarray(numpy.nanmin(X, axis=axis))\n",
      "C:\\Users\\Khyathi Shetty\\AppData\\Roaming\\Python\\Python312\\site-packages\\sklearn\\utils\\_array_api.py:489: RuntimeWarning: All-NaN slice encountered\n",
      "  return xp.asarray(numpy.nanmax(X, axis=axis))\n"
     ]
    },
    {
     "ename": "TypeError",
     "evalue": "recommend_courses() missing 1 required positional argument: 'Name'",
     "output_type": "error",
     "traceback": [
      "\u001b[1;31m---------------------------------------------------------------------------\u001b[0m",
      "\u001b[1;31mTypeError\u001b[0m                                 Traceback (most recent call last)",
      "Cell \u001b[1;32mIn[12], line 50\u001b[0m\n\u001b[0;32m     47\u001b[0m         \u001b[38;5;28mprint\u001b[39m(\u001b[38;5;124mf\u001b[39m\u001b[38;5;124m\"\u001b[39m\u001b[38;5;124mRecommended courses for \u001b[39m\u001b[38;5;132;01m{\u001b[39;00mname\u001b[38;5;132;01m}\u001b[39;00m\u001b[38;5;124m: \u001b[39m\u001b[38;5;132;01m{\u001b[39;00mrecommended_courses\u001b[38;5;132;01m}\u001b[39;00m\u001b[38;5;124m\"\u001b[39m)\n\u001b[0;32m     49\u001b[0m \u001b[38;5;66;03m# Example usage\u001b[39;00m\n\u001b[1;32m---> 50\u001b[0m \u001b[43mrecommend_courses\u001b[49m\u001b[43m(\u001b[49m\u001b[43mdf\u001b[49m\u001b[43m,\u001b[49m\u001b[43m \u001b[49m\u001b[43mk\u001b[49m\u001b[38;5;241;43m=\u001b[39;49m\u001b[38;5;241;43m3\u001b[39;49m\u001b[43m,\u001b[49m\u001b[43m \u001b[49m\u001b[43mreco_method\u001b[49m\u001b[38;5;241;43m=\u001b[39;49m\u001b[38;5;124;43m'\u001b[39;49m\u001b[38;5;124;43maverage_rating\u001b[39;49m\u001b[38;5;124;43m'\u001b[39;49m\u001b[43m)\u001b[49m \n",
      "\u001b[1;31mTypeError\u001b[0m: recommend_courses() missing 1 required positional argument: 'Name'"
     ]
    }
   ],
   "source": []
  },
  {
   "cell_type": "code",
   "execution_count": 33,
   "metadata": {},
   "outputs": [
    {
     "name": "stdout",
     "output_type": "stream",
     "text": [
      "Index(['Name', 'Skills', 'CGPA', 'Soft Skills', 'Company', 'Target'], dtype='object')\n"
     ]
    },
    {
     "ename": "TypeError",
     "evalue": "OneHotEncoder.__init__() got an unexpected keyword argument 'sparse'",
     "output_type": "error",
     "traceback": [
      "\u001b[1;31m---------------------------------------------------------------------------\u001b[0m",
      "\u001b[1;31mTypeError\u001b[0m                                 Traceback (most recent call last)",
      "Cell \u001b[1;32mIn[33], line 21\u001b[0m\n\u001b[0;32m     18\u001b[0m categorical_data \u001b[38;5;241m=\u001b[39m df[categorical_features]\n\u001b[0;32m     20\u001b[0m \u001b[38;5;66;03m# One-hot encode categorical features\u001b[39;00m\n\u001b[1;32m---> 21\u001b[0m encoder \u001b[38;5;241m=\u001b[39m \u001b[43mOneHotEncoder\u001b[49m\u001b[43m(\u001b[49m\u001b[43msparse\u001b[49m\u001b[38;5;241;43m=\u001b[39;49m\u001b[38;5;28;43;01mFalse\u001b[39;49;00m\u001b[43m)\u001b[49m\n\u001b[0;32m     22\u001b[0m encoded_data \u001b[38;5;241m=\u001b[39m encoder\u001b[38;5;241m.\u001b[39mfit_transform(categorical_data)\n\u001b[0;32m     24\u001b[0m \u001b[38;5;66;03m# Combine numerical and encoded data\u001b[39;00m\n",
      "\u001b[1;31mTypeError\u001b[0m: OneHotEncoder.__init__() got an unexpected keyword argument 'sparse'"
     ]
    }
   ],
   "source": [
    "import pandas as pd\n",
    "from sklearn.preprocessing import OneHotEncoder\n",
    "from sklearn.model_selection import train_test_split\n",
    "from sklearn.tree import DecisionTreeClassifier\n",
    "from sklearn.metrics import accuracy_score, precision_score, f1_score, recall_score\n",
    "\n",
    "# Load data (assuming your CSV file is named 'placementdata.csv')\n",
    "df = pd.read_csv(\"placementdata.csv\")\n",
    "\n",
    "# Check column names (ensure 'company_name' exists)\n",
    "print(df.columns)\n",
    "\n",
    "# Feature engineering (assuming numerical encoding for CGPA and TF-IDF for skills/softskills)\n",
    "# ... (replace these comments with your specific feature engineering steps)\n",
    "\n",
    "# Separate categorical features (assuming 'student_name' and 'company_name')\n",
    "categorical_features = ['Name', 'Company']\n",
    "categorical_data = df[categorical_features]\n",
    "\n",
    "# One-hot encode categorical features\n",
    "encoder = OneHotEncoder(sparse=False)\n",
    "encoded_data = encoder.fit_transform(categorical_data)\n",
    "\n",
    "# Combine numerical and encoded data\n",
    "X = pd.concat([df[['CGPA']], pd.DataFrame(encoded_data, columns=encoder.get_feature_names_out())], axis=1)\n",
    "y = df['Target']\n",
    "\n",
    "# Train-test split\n",
    "X_train, X_test, y_train, y_test = train_test_split(X, y, test_size=0.2, random_state=42)\n",
    "\n",
    "# Decision tree model\n",
    "dt_classifier = DecisionTreeClassifier()\n",
    "dt_classifier.fit(X_train, y_train)\n",
    "\n",
    "# Make predictions\n",
    "predictions = dt_classifier.predict(X_test)\n",
    "\n",
    "# Model evaluation\n",
    "accuracy = accuracy_score(y_test, predictions)\n",
    "precision = precision_score(y_test, predictions, average='macro')\n",
    "f1 = f1_score(y_test, predictions, pos_label='Yes')\n",
    "recall = recall_score(y_test, predictions, average='macro')\n",
    "conf_matrix = confusion_matrix(y_test, predictions)\n",
    "\n",
    "print(\"Accuracy:\", accuracy)\n",
    "print(\"Precision:\", precision)\n",
    "print(\"Recall:\", recall)\n",
    "print(\"F1-measure:\", f1)\n",
    "print(\"Confusion Matrix:\\n\", conf_matrix)\n"
   ]
  },
  {
   "cell_type": "code",
   "execution_count": 16,
   "metadata": {},
   "outputs": [
    {
     "name": "stderr",
     "output_type": "stream",
     "text": [
      "C:\\Users\\Khyathi Shetty\\AppData\\Roaming\\Python\\Python312\\site-packages\\sklearn\\utils\\_array_api.py:472: RuntimeWarning: All-NaN slice encountered\n",
      "  return xp.asarray(numpy.nanmin(X, axis=axis))\n",
      "C:\\Users\\Khyathi Shetty\\AppData\\Roaming\\Python\\Python312\\site-packages\\sklearn\\utils\\_array_api.py:489: RuntimeWarning: All-NaN slice encountered\n",
      "  return xp.asarray(numpy.nanmax(X, axis=axis))\n"
     ]
    },
    {
     "ename": "TypeError",
     "evalue": "recommend_courses() missing 1 required positional argument: 'Name'",
     "output_type": "error",
     "traceback": [
      "\u001b[1;31m---------------------------------------------------------------------------\u001b[0m",
      "\u001b[1;31mTypeError\u001b[0m                                 Traceback (most recent call last)",
      "Cell \u001b[1;32mIn[16], line 50\u001b[0m\n\u001b[0;32m     47\u001b[0m         \u001b[38;5;28mprint\u001b[39m(\u001b[38;5;124mf\u001b[39m\u001b[38;5;124m\"\u001b[39m\u001b[38;5;124mRecommended courses for \u001b[39m\u001b[38;5;132;01m{\u001b[39;00mname\u001b[38;5;132;01m}\u001b[39;00m\u001b[38;5;124m: \u001b[39m\u001b[38;5;132;01m{\u001b[39;00mrecommended_courses\u001b[38;5;132;01m}\u001b[39;00m\u001b[38;5;124m\"\u001b[39m)\n\u001b[0;32m     49\u001b[0m \u001b[38;5;66;03m# Example usage\u001b[39;00m\n\u001b[1;32m---> 50\u001b[0m \u001b[43mrecommend_courses\u001b[49m\u001b[43m(\u001b[49m\u001b[43mdf\u001b[49m\u001b[43m,\u001b[49m\u001b[43m \u001b[49m\u001b[43mk\u001b[49m\u001b[38;5;241;43m=\u001b[39;49m\u001b[38;5;241;43m3\u001b[39;49m\u001b[43m,\u001b[49m\u001b[43m \u001b[49m\u001b[43mreco_method\u001b[49m\u001b[38;5;241;43m=\u001b[39;49m\u001b[38;5;124;43m'\u001b[39;49m\u001b[38;5;124;43maverage_rating\u001b[39;49m\u001b[38;5;124;43m'\u001b[39;49m\u001b[43m)\u001b[49m\n",
      "\u001b[1;31mTypeError\u001b[0m: recommend_courses() missing 1 required positional argument: 'Name'"
     ]
    }
   ],
   "source": [
    "import pandas as pd\n",
    "from sklearn.neighbors import NearestNeighbors\n",
    "data=pd.read_csv(\"placementdata.csv\")\n",
    "df = pd.DataFrame(data)\n",
    "\n",
    "from sklearn.preprocessing import MinMaxScaler\n",
    "# Define numerical columns for scaling (assuming others are non-numerical)\n",
    "numerical_cols = [col for col in df.columns if df[col].dtype != 'object']\n",
    "\n",
    "# Create a MinMaxScaler and fit/transform the numerical columns\n",
    "scaler = MinMaxScaler()\n",
    "df_scaled = pd.DataFrame(scaler.fit_transform(df[numerical_cols]))\n",
    "\n",
    "def cosine_similarity(df):\n",
    "    return df.T.dot(df)  # Calculate dot product for transposed matrix\n",
    "\n",
    "# Define a function to generate recommendations\n",
    "def recommend_courses(df, Name, k=3, reco_method='average_rating', metric=cosine_similarity):\n",
    "    similarity_matrix = metric(df_scaled if 'scaled' in locals() else df)  # Use scaled data if available\n",
    "    neighbors = NearestNeighbors(n_neighbors=k, algorithm='brute').fit(similarity_matrix)\n",
    "\n",
    "   \n",
    "    # Get all unique names from the \"Names\" column\n",
    "    names = df[\"Names\"].unique().tolist()\n",
    "\n",
    "    # Loop through each name and generate recommendations\n",
    "    for name in names:\n",
    "        user_index = df.index.get_loc(name)  # Find the index of the user (name)\n",
    "\n",
    "        # Handle potential errors if the name doesn't exist in the index\n",
    "        if user_index is None:\n",
    "            print(f\"Name '{name}' not found in the dataset.\")\n",
    "            continue\n",
    "\n",
    "        distances, indices = neighbors.kneighbors(df.iloc[[user_index]])\n",
    "        neighbor_indices = indices.flatten()[1:]\n",
    "\n",
    "        # Recommendation based on chosen method\n",
    "        if reco_method == 'average_rating':\n",
    "            recommended_courses = df.columns[df.iloc[neighbor_indices].mean(axis=0) > 0].tolist()\n",
    "        elif reco_method == 'weighted_rating':\n",
    "            # Implement weighted rating logic based on similarity scores (distances)\n",
    "            pass\n",
    "        else:\n",
    "            raise ValueError(f\"Invalid recommendation method: {reco_method}\")\n",
    "\n",
    "        print(f\"Recommended courses for {name}: {recommended_courses}\")\n",
    "\n",
    "# Example usage\n",
    "recommend_courses(df, k=3, reco_method='average_rating')"
   ]
  }
 ],
 "metadata": {
  "kernelspec": {
   "display_name": "Python 3",
   "language": "python",
   "name": "python3"
  },
  "language_info": {
   "codemirror_mode": {
    "name": "ipython",
    "version": 3
   },
   "file_extension": ".py",
   "mimetype": "text/x-python",
   "name": "python",
   "nbconvert_exporter": "python",
   "pygments_lexer": "ipython3",
   "version": "3.12.2"
  }
 },
 "nbformat": 4,
 "nbformat_minor": 2
}
